{
 "cells": [
  {
   "cell_type": "markdown",
   "id": "40eee640",
   "metadata": {},
   "source": [
    "# Naive Bayes - Clasificador de género musical\n"
   ]
  },
  {
   "cell_type": "markdown",
   "id": "1d904d18",
   "metadata": {},
   "source": [
    "## Descripción\n",
    "- En esta sesión trabajaremos con una serie de base de datos sobre letras musicales de distintos artistas. Cada uno de los csv se encuentra en la carpeta dump dentro del proyecto.\n",
    "- Cada csv tiene el nombre del artista a analizar. Los archivos contienen el nombre del artista, el género musical del artista, el nombre de la canción y las letras.\n",
    "- En base a esta información, se les pide un modelo generativo que pueda predecir el género de una canción a partir de la letra de una canción.\n",
    "- Existen 4 géneros que se registran en la base de datos.\n",
    "- Se busca predecir el género en base a las frecuecias de palabras de cada canción, por lo que para esta actividad trabajaremos con un Multinomial Naive Bayes."
   ]
  },
  {
   "cell_type": "markdown",
   "id": "f4478cf4",
   "metadata": {},
   "source": [
    "### Ejercicio 1: Preparar el ambiente de trabajo\n",
    "- Importe los módulos `numpy`, `pandas`, `matplotlib`, `seaborn`, `glob` y `os` siguiendo las buenas prácticas. Los últimos dos módulos permitirán realizar la importación de múltiples archivos dentro de la carpeta `dump`.\n",
    "- Para ello genere un objeto que guarde en una lista todos los archivos alojados en `dump` utilizando `glob.glob` y `os.getcwd()` para extraer las rutas absolutas.\n",
    "- Posteriormente generar un objeto `pd.DataFrame` que contenga todos los `csv`.\n",
    "- Asegúrese de eliminar la columna Unnamed: 0 que se genera por defecto."
   ]
  },
  {
   "cell_type": "code",
   "execution_count": 1,
   "id": "703a48a2",
   "metadata": {},
   "outputs": [],
   "source": [
    "# Utiliza esta celda para realizar los import solicitados\n",
    "\n",
    "import pandas as pd\n",
    "import numpy as np\n",
    "import matplotlib.pyplot as plt\n",
    "import glob, os\n",
    "import seaborn as sns\n",
    "import warnings\n",
    "warnings.simplefilter('ignore')"
   ]
  },
  {
   "cell_type": "code",
   "execution_count": 2,
   "id": "2ac22d85",
   "metadata": {},
   "outputs": [],
   "source": [
    "# Utiliza esta celda para crear el DataFrame solicitado\n",
    "\n",
    "\n",
    "# Creamos una función para guardar archivos en DataFrame\n",
    "def generar_df_letras (path, columnas_df):\n",
    "    \n",
    "    \"\"\"Esta función tiene por objetivo leer rutas de archivos desde un path, para luego abrir, leer y guardar\n",
    "    el contenido en una lista que luego será almacenada e un DataFrame. En este caso el DataFrame resultante\n",
    "    contiene datos sobre artistas, nombres de canciones, género y las letras de las canciones\n",
    "    Args:\n",
    "        dataframe: Corresponde a objeto de tipo DataFrame que corresponde al set de datos que se analizará\n",
    "        columnas_df: Corresponde a un objeto tipo Lista, que contiene el nombre de las columnas que tendrá \n",
    "        el DataFrame resultante.\n",
    "       \n",
    "    Returns:\n",
    "        df_letras: Corresponde a objeto de tipo DataFrame que contiene la información de los archivos \n",
    "    \"\"\"\n",
    "    \n",
    "    lista_arch = glob.glob(os.getcwd()+path)\n",
    "    \n",
    "\n",
    "    # Definir lista csv\n",
    "    lista_csv = []\n",
    "    \n",
    "\n",
    "    # Para cada csv de la lista de archivos\n",
    "    for archivo in lista_arch:\n",
    "        # abrir archivo y leerlo, borrar columna \"Unnamed:0\"\n",
    "        data=pd.read_csv(archivo, index_col=None, header=0).drop(columns='Unnamed: 0')\n",
    "        # Guardo en lista de csv\n",
    "        lista_csv.append(data)\n",
    "    \n",
    "    # En un DataFrame concatenamos la lista_csv\n",
    "    df_letras = pd.concat(lista_csv)\n",
    "\n",
    "    # Seteamos las columnas\n",
    "    df_letras.columns= columnas_df\n",
    "\n",
    "    return df_letras"
   ]
  },
  {
   "cell_type": "code",
   "execution_count": 3,
   "id": "bb0b2c41",
   "metadata": {},
   "outputs": [
    {
     "data": {
      "text/html": [
       "<div>\n",
       "<style scoped>\n",
       "    .dataframe tbody tr th:only-of-type {\n",
       "        vertical-align: middle;\n",
       "    }\n",
       "\n",
       "    .dataframe tbody tr th {\n",
       "        vertical-align: top;\n",
       "    }\n",
       "\n",
       "    .dataframe thead th {\n",
       "        text-align: right;\n",
       "    }\n",
       "</style>\n",
       "<table border=\"1\" class=\"dataframe\">\n",
       "  <thead>\n",
       "    <tr style=\"text-align: right;\">\n",
       "      <th></th>\n",
       "      <th>Artista</th>\n",
       "      <th>Género</th>\n",
       "      <th>Canción</th>\n",
       "      <th>Letra</th>\n",
       "    </tr>\n",
       "  </thead>\n",
       "  <tbody>\n",
       "    <tr>\n",
       "      <th>0</th>\n",
       "      <td>Anthrax</td>\n",
       "      <td>metal</td>\n",
       "      <td>Deathrider</td>\n",
       "      <td>Riding hard, high in the saddle \\n Winged stee...</td>\n",
       "    </tr>\n",
       "    <tr>\n",
       "      <th>1</th>\n",
       "      <td>Anthrax</td>\n",
       "      <td>metal</td>\n",
       "      <td>Metal Thrashing Mad</td>\n",
       "      <td>Racing down the road \\n In a street machine of...</td>\n",
       "    </tr>\n",
       "    <tr>\n",
       "      <th>2</th>\n",
       "      <td>Anthrax</td>\n",
       "      <td>metal</td>\n",
       "      <td>I'm Eighteen</td>\n",
       "      <td>Lines form on my face and hands \\n Lines form ...</td>\n",
       "    </tr>\n",
       "    <tr>\n",
       "      <th>3</th>\n",
       "      <td>Anthrax</td>\n",
       "      <td>metal</td>\n",
       "      <td>Panic</td>\n",
       "      <td>Move it to the front \\n Reaching for the light...</td>\n",
       "    </tr>\n",
       "    <tr>\n",
       "      <th>4</th>\n",
       "      <td>Anthrax</td>\n",
       "      <td>metal</td>\n",
       "      <td>Subjugator</td>\n",
       "      <td>Out in the streets \\n We're fighting tonight \\...</td>\n",
       "    </tr>\n",
       "  </tbody>\n",
       "</table>\n",
       "</div>"
      ],
      "text/plain": [
       "   Artista Género              Canción  \\\n",
       "0  Anthrax  metal           Deathrider   \n",
       "1  Anthrax  metal  Metal Thrashing Mad   \n",
       "2  Anthrax  metal         I'm Eighteen   \n",
       "3  Anthrax  metal                Panic   \n",
       "4  Anthrax  metal           Subjugator   \n",
       "\n",
       "                                               Letra  \n",
       "0  Riding hard, high in the saddle \\n Winged stee...  \n",
       "1  Racing down the road \\n In a street machine of...  \n",
       "2  Lines form on my face and hands \\n Lines form ...  \n",
       "3  Move it to the front \\n Reaching for the light...  \n",
       "4  Out in the streets \\n We're fighting tonight \\...  "
      ]
     },
     "execution_count": 3,
     "metadata": {},
     "output_type": "execute_result"
    }
   ],
   "source": [
    "# Llamamos a la función\n",
    "\n",
    "# Establecemos la ruta de los archivos\n",
    "path='/dump/*.csv'\n",
    "\n",
    "# Nombre de las columnas que se incluirán en el DataFrame\n",
    "columnas_df=['Artista', 'Género', 'Canción', 'Letra']\n",
    "\n",
    "df= generar_df_letras (path, columnas_df)\n",
    "\n",
    "df.head()"
   ]
  },
  {
   "cell_type": "code",
   "execution_count": 4,
   "id": "bdef637b",
   "metadata": {},
   "outputs": [
    {
     "data": {
      "text/plain": [
       "(9489, 4)"
      ]
     },
     "execution_count": 4,
     "metadata": {},
     "output_type": "execute_result"
    }
   ],
   "source": [
    "df.shape"
   ]
  },
  {
   "cell_type": "markdown",
   "id": "2e8987d8",
   "metadata": {},
   "source": [
    "### Ejercicio 2: Descripción de los datos\n",
    "- Utilizando el objeto creado en el Ejercicio 1, genere dos gráficos de barras que resuman la siguiente información:\n",
    "    - La cantidad de canciones registradas por cada artista, ordenados de mayor a menor.\n",
    "    - La cantidad de canciones registradas en cada género, ordenados de mayor a menor.\n",
    "- Comente sobre las principales tendencias."
   ]
  },
  {
   "cell_type": "code",
   "execution_count": 5,
   "id": "135ea442",
   "metadata": {},
   "outputs": [],
   "source": [
    "def grafico_barras (dataframe, var1, var2, num, genre='rock'):\n",
    "    \"\"\"Esta función tiene por objetivo realizar un gráfico de barras, dado un determinado Dataframe y  \n",
    "    una variable (var1) y una variable (var2). Adicionalmente, es posible realizar también un gráfico de barras\n",
    "    agrupando el DataFrame por la var1 y filtrando por var2, realizando un conteo de manera descendente; indicando\n",
    "    el parámetro num igual a 1.\n",
    "    Args:\n",
    "        dataframe: Corresponde a objeto de tipo DataFrame que es el set de datos que se analizará\n",
    "        var1: Corresponde a un string que indica el nombre de una variable, por la cual se agrupará el DataFrame\n",
    "        var2: Corresponde a un string que indica el nombre de una variable por la cual se hará el filtro de datos\n",
    "        num: Corresponde a un número entero para indicar si agrupar el DataFrame o no. Ejemplo num=1 agrupa el\n",
    "        Dataframe por var1 y var2. Si num es cualquier otro valor no agrupa el Dataframe\n",
    "        genre: Corresponde a un parámetro opcional, un string que indica el tipo de género al cual corresponde el gráfico \n",
    "        de barra\n",
    "    Returns:\n",
    "        None\n",
    "    \"\"\"\n",
    "    df1=dataframe.copy()\n",
    "    \n",
    "    # Si se indica que num=1\n",
    "    if (num==1):\n",
    "        # Agrupando por artista y haciendo conteo de canciones y luego ordenando de manera descendente\n",
    "        df1= dataframe.groupby(var1)[var2].count().reset_index().sort_values(by=var2, ascending=False)\n",
    "        # Calculamos la media\n",
    "        mean=dataframe.groupby(var1)[var2].count().mean()\n",
    "        # Gráfico\n",
    "        plt.figure(figsize=(18, 10))\n",
    "        plt.xticks(rotation=85)\n",
    "        plt.title(f\"Cantidad de {var2} por {var1}\")\n",
    "        plt.axhline(y=mean, ls='--', color='blue', label=f\"mean:{round(mean,2)}\")\n",
    "        plt.legend()\n",
    "        sns.barplot(x=df1[var1], y=df1[var2], palette=\"magma_r\");\n",
    "    else:\n",
    "        \n",
    "         # Gráfico\n",
    "        plt.figure(figsize=(10, 8))\n",
    "        plt.xticks(rotation=60)\n",
    "        plt.title(f\"Frecuencia de palabras para Género: {genre}\")\n",
    "        sns.barplot(x=df1[var1], y=df1[var2], palette=\"mako_r\");\n",
    "    \n"
   ]
  },
  {
   "cell_type": "code",
   "execution_count": 6,
   "id": "649ff9b3",
   "metadata": {},
   "outputs": [
    {
     "data": {
      "image/png": "[encoded data removed]",
      "text/plain": [
       "<Figure size 1296x720 with 1 Axes>"
      ]
     },
     "metadata": {
      "needs_background": "light"
     },
     "output_type": "display_data"
    }
   ],
   "source": [
    "# Primer gráfico\n",
    "grafico_barras(df, 'Artista', 'Canción', 1);"
   ]
  },
  {
   "cell_type": "code",
   "execution_count": 7,
   "id": "029f8058",
   "metadata": {},
   "outputs": [
    {
     "data": {
      "image/png": "[encoded data removed]",
      "text/plain": [
       "<Figure size 1296x720 with 1 Axes>"
      ]
     },
     "metadata": {
      "needs_background": "light"
     },
     "output_type": "display_data"
    }
   ],
   "source": [
    "# Utiliza esta celda para el segundo gráfico solicitado\n",
    "\n",
    "grafico_barras(df, 'Género', 'Canción', 1);"
   ]
  },
  {
   "cell_type": "code",
   "execution_count": 8,
   "id": "0e0d7f82",
   "metadata": {},
   "outputs": [
    {
     "data": {
      "text/html": [
       "<div>\n",
       "<style scoped>\n",
       "    .dataframe tbody tr th:only-of-type {\n",
       "        vertical-align: middle;\n",
       "    }\n",
       "\n",
       "    .dataframe tbody tr th {\n",
       "        vertical-align: top;\n",
       "    }\n",
       "\n",
       "    .dataframe thead th {\n",
       "        text-align: right;\n",
       "    }\n",
       "</style>\n",
       "<table border=\"1\" class=\"dataframe\">\n",
       "  <thead>\n",
       "    <tr style=\"text-align: right;\">\n",
       "      <th></th>\n",
       "      <th>Género</th>\n",
       "      <th>Artista</th>\n",
       "      <th>Canción</th>\n",
       "      <th>Letra</th>\n",
       "    </tr>\n",
       "  </thead>\n",
       "  <tbody>\n",
       "    <tr>\n",
       "      <th>3</th>\n",
       "      <td>rock</td>\n",
       "      <td>4140</td>\n",
       "      <td>4140</td>\n",
       "      <td>4140</td>\n",
       "    </tr>\n",
       "    <tr>\n",
       "      <th>0</th>\n",
       "      <td>hiphop</td>\n",
       "      <td>2535</td>\n",
       "      <td>2535</td>\n",
       "      <td>2535</td>\n",
       "    </tr>\n",
       "    <tr>\n",
       "      <th>1</th>\n",
       "      <td>metal</td>\n",
       "      <td>1582</td>\n",
       "      <td>1582</td>\n",
       "      <td>1582</td>\n",
       "    </tr>\n",
       "    <tr>\n",
       "      <th>2</th>\n",
       "      <td>pop</td>\n",
       "      <td>1232</td>\n",
       "      <td>1232</td>\n",
       "      <td>1232</td>\n",
       "    </tr>\n",
       "  </tbody>\n",
       "</table>\n",
       "</div>"
      ],
      "text/plain": [
       "   Género  Artista  Canción  Letra\n",
       "3    rock     4140     4140   4140\n",
       "0  hiphop     2535     2535   2535\n",
       "1   metal     1582     1582   1582\n",
       "2     pop     1232     1232   1232"
      ]
     },
     "execution_count": 8,
     "metadata": {},
     "output_type": "execute_result"
    }
   ],
   "source": [
    "# Explorando la distribución de las canciones en los géneros musicales\n",
    "\n",
    "df_genero = df.groupby('Género').count().reset_index().sort_values(by='Letra', ascending=False)\n",
    "df_genero"
   ]
  },
  {
   "cell_type": "markdown",
   "id": "aefb9c32",
   "metadata": {},
   "source": [
    "**Comentarios**\n",
    "\n",
    "- Los artistas con más canciones en el registro son: Eminem, Bruce Springsteen y Bob Dylan, los cuales tienen más de 400 canciones en el registro, siendo Eminem el artista con más canciones (casi 500 aprox.)\n",
    "\n",
    "- Es posible ver en el segundo gráfico que el género musical predominante es el Rock con más 4000 canciones clasificadas en esa categoría, seguido por hiphop con 2500 canciones, luego el metal con un poco más de 1500 y finalmente el pop con 1200 canciones aprox. Las clases de género no se encuentran muy bien balanceadas\n"
   ]
  },
  {
   "cell_type": "markdown",
   "id": "62eab0a7",
   "metadata": {},
   "source": [
    "### Ejercicio 3: Matriz de ocurrencias\n",
    "\n",
    "#### Digresión: Tokenización de Textos\n",
    "Para poder trabajar con textos, debemos pasarlos a una matriz dispersa, donde cada fila representará una entrada (en este caso, una canción), y cada columna representará una palabra (token). Este es el proceso de tokenización: Identificar la ocurrencia de una palabra específica dentro de un conjunto de textos (corpus).\n",
    "\n",
    "El tokenizador más simple `sklearn.feature_extraction.text.CountVectorizer` genera una colección de textos a una matriz que representa la frecuencia dentro del texto de una palabra específica."
   ]
  },
  {
   "cell_type": "markdown",
   "id": "49c3d9e8",
   "metadata": {},
   "source": [
    "- Importe la clase `CountVectorizer` dentro de los módulos `feature_extraction.text` de la librería `sklearn`. Lea la documentación asociada a ésta. ¿Cuál es el objetivo de esta clase?\n",
    "\n",
    "**Respuesta**:\n",
    "\n",
    "- Es una clase que se utiliza para representar un texto en natural language processing (NLP) y que convierte una colección de documentos en una matriz de documentos-palabras"
   ]
  },
  {
   "cell_type": "code",
   "execution_count": 9,
   "id": "4ca412fb",
   "metadata": {},
   "outputs": [],
   "source": [
    "from sklearn.feature_extraction.text import CountVectorizer"
   ]
  },
  {
   "cell_type": "markdown",
   "id": "7f6de8ef",
   "metadata": {},
   "source": [
    "- Aplique la clase para extraer las 100 palabras más repetidas en toda la base de datos"
   ]
  },
  {
   "cell_type": "code",
   "execution_count": 10,
   "id": "2ee94440",
   "metadata": {},
   "outputs": [
    {
     "name": "stdout",
     "output_type": "stream",
     "text": [
      "100 Palabras más repetidas en toda la base de datos\n"
     ]
    },
    {
     "data": {
      "text/html": [
       "<div>\n",
       "<style scoped>\n",
       "    .dataframe tbody tr th:only-of-type {\n",
       "        vertical-align: middle;\n",
       "    }\n",
       "\n",
       "    .dataframe tbody tr th {\n",
       "        vertical-align: top;\n",
       "    }\n",
       "\n",
       "    .dataframe thead th {\n",
       "        text-align: right;\n",
       "    }\n",
       "</style>\n",
       "<table border=\"1\" class=\"dataframe\">\n",
       "  <thead>\n",
       "    <tr style=\"text-align: right;\">\n",
       "      <th></th>\n",
       "      <th>Palabra</th>\n",
       "      <th>Frecuencia</th>\n",
       "    </tr>\n",
       "  </thead>\n",
       "  <tbody>\n",
       "    <tr>\n",
       "      <th>51</th>\n",
       "      <td>like</td>\n",
       "      <td>19629</td>\n",
       "    </tr>\n",
       "    <tr>\n",
       "      <th>18</th>\n",
       "      <td>don</td>\n",
       "      <td>17398</td>\n",
       "    </tr>\n",
       "    <tr>\n",
       "      <th>44</th>\n",
       "      <td>know</td>\n",
       "      <td>14962</td>\n",
       "    </tr>\n",
       "    <tr>\n",
       "      <th>31</th>\n",
       "      <td>got</td>\n",
       "      <td>14171</td>\n",
       "    </tr>\n",
       "    <tr>\n",
       "      <th>43</th>\n",
       "      <td>just</td>\n",
       "      <td>13978</td>\n",
       "    </tr>\n",
       "    <tr>\n",
       "      <th>...</th>\n",
       "      <td>...</td>\n",
       "      <td>...</td>\n",
       "    </tr>\n",
       "    <tr>\n",
       "      <th>15</th>\n",
       "      <td>death</td>\n",
       "      <td>1897</td>\n",
       "    </tr>\n",
       "    <tr>\n",
       "      <th>47</th>\n",
       "      <td>left</td>\n",
       "      <td>1895</td>\n",
       "    </tr>\n",
       "    <tr>\n",
       "      <th>82</th>\n",
       "      <td>thing</td>\n",
       "      <td>1882</td>\n",
       "    </tr>\n",
       "    <tr>\n",
       "      <th>20</th>\n",
       "      <td>end</td>\n",
       "      <td>1829</td>\n",
       "    </tr>\n",
       "    <tr>\n",
       "      <th>79</th>\n",
       "      <td>stay</td>\n",
       "      <td>1828</td>\n",
       "    </tr>\n",
       "  </tbody>\n",
       "</table>\n",
       "<p>100 rows × 2 columns</p>\n",
       "</div>"
      ],
      "text/plain": [
       "   Palabra  Frecuencia\n",
       "51    like       19629\n",
       "18     don       17398\n",
       "44    know       14962\n",
       "31     got       14171\n",
       "43    just       13978\n",
       "..     ...         ...\n",
       "15   death        1897\n",
       "47    left        1895\n",
       "82   thing        1882\n",
       "20     end        1829\n",
       "79    stay        1828\n",
       "\n",
       "[100 rows x 2 columns]"
      ]
     },
     "execution_count": 10,
     "metadata": {},
     "output_type": "execute_result"
    }
   ],
   "source": [
    "# instanciamos un objeto\n",
    "count_vectorizer=CountVectorizer(stop_words='english', max_features=100)\n",
    "\n",
    "# Implementamos los pasos fit y transform\n",
    "count_vectorizer_fit = count_vectorizer.fit_transform(df[\"Letra\"])\n",
    "\n",
    "# Extraemos tokens (palabras)\n",
    "words = count_vectorizer.get_feature_names_out()\n",
    "\n",
    "# extraemos frecuencia entregando un array de frecuencias\n",
    "words_freq = count_vectorizer_fit.toarray().sum(axis=0)\n",
    "\n",
    "\n",
    "# Se crea un DataFrame para facilitar la visualización\n",
    "print(\"100 Palabras más repetidas en toda la base de datos\")\n",
    "words_freq_df=pd.DataFrame(zip(words, words_freq), columns= [\"Palabra\", \"Frecuencia\"]).sort_values(by='Frecuencia', ascending=False)\n",
    "words_freq_df"
   ]
  },
  {
   "cell_type": "markdown",
   "id": "a19bc799",
   "metadata": {},
   "source": [
    "- Genere una función que replique el procedimiento para cada uno de los géneros"
   ]
  },
  {
   "cell_type": "code",
   "execution_count": 11,
   "id": "04a4603d",
   "metadata": {},
   "outputs": [],
   "source": [
    "# Utiliza esta celda para definir la función solicitada\n",
    "\n",
    "def extrae_palabras(df, col_letra , max_features, genero ):\n",
    "    \"\"\"Esta función tiene por objetivo extraer un número determinado de las palabras más frecuentes y su frecuencia asociada,\n",
    "    dado una variable que filtra el DataFrame y otra variable que representa un conjunto de texto a analizar. En este caso,\n",
    "    sería extraer palabras de la variable \"Letra\" según la variable que representa el tipo de genero: \"rock\", por ejemplo.\n",
    "    Args:\n",
    "        df: Corresponde a objeto de tipo DataFrame que corresponde al set de datos que se analizará\n",
    "        col_letra: Corresponde a un string que indica el nombre de una variable, que representa el texto donde se buscará\n",
    "        las palabras frecuentes a extraer. En este caso, sería el nombre de la variable \"Letra\" que representa la letra de \n",
    "        las canciones\n",
    "        max_features: Corresponde a un dato de tipo entero, que indica el máximo de palabras que se extraerán.\n",
    "        Por ejemplo: 100\n",
    "        genero: Corresponde a un string que indica el tipo de género por cual se hará el filtro de los textos, en este caso, \n",
    "        la letra de canciones asociadas a ese género. En este ejercicios existen 4 géneros establecidos. Ejemplo: \"rock\", \n",
    "        \"metal\", \"hiphop\", \"pop\".\n",
    "        \n",
    "    Returns:\n",
    "        words_freq_gen_df: Corresponde a un objeto de tipo DataFrame que contiene la información de las 100 palabras\n",
    "        más frecuentes, con su frecuencia asociada en orden descendente en las canciones agrupadas por género\n",
    "    \"\"\"\n",
    "    \n",
    "    # Instanciar objeto\n",
    "    cv=CountVectorizer(stop_words='english', max_features=max_features)\n",
    "    \n",
    "    # Hacer copia de DataFrame\n",
    "    df_g=df.copy()\n",
    "    df_g = df_g[df_g['Género']==genero][col_letra]\n",
    "    cv_fit = cv.fit_transform(df_g)\n",
    "    \n",
    "    # Se Extraen tokens (palabras)\n",
    "    words_g = cv.get_feature_names_out()\n",
    "    \n",
    "    # Se extrae frecuencia entregando un array de frecuencias\n",
    "    words_freq_g = cv_fit.toarray().sum(axis=0)\n",
    "    \n",
    "    # Se arma un DataFrame\n",
    "    print(\"Dataframe de Género:\",genero)\n",
    "    words_freq_gen_df=pd.DataFrame(zip(words_g, words_freq_g), columns= [\"Palabra\", \"Frecuencia\"]).sort_values(by='Frecuencia', ascending=False)\n",
    "    \n",
    "    return words_freq_gen_df"
   ]
  },
  {
   "cell_type": "code",
   "execution_count": 12,
   "id": "47857376",
   "metadata": {},
   "outputs": [
    {
     "name": "stdout",
     "output_type": "stream",
     "text": [
      "Dataframe de Género: metal\n"
     ]
    },
    {
     "data": {
      "text/html": [
       "<div>\n",
       "<style scoped>\n",
       "    .dataframe tbody tr th:only-of-type {\n",
       "        vertical-align: middle;\n",
       "    }\n",
       "\n",
       "    .dataframe tbody tr th {\n",
       "        vertical-align: top;\n",
       "    }\n",
       "\n",
       "    .dataframe thead th {\n",
       "        text-align: right;\n",
       "    }\n",
       "</style>\n",
       "<table border=\"1\" class=\"dataframe\">\n",
       "  <thead>\n",
       "    <tr style=\"text-align: right;\">\n",
       "      <th></th>\n",
       "      <th>Palabra</th>\n",
       "      <th>Frecuencia</th>\n",
       "    </tr>\n",
       "  </thead>\n",
       "  <tbody>\n",
       "    <tr>\n",
       "      <th>57</th>\n",
       "      <td>life</td>\n",
       "      <td>1233</td>\n",
       "    </tr>\n",
       "    <tr>\n",
       "      <th>19</th>\n",
       "      <td>don</td>\n",
       "      <td>1181</td>\n",
       "    </tr>\n",
       "    <tr>\n",
       "      <th>16</th>\n",
       "      <td>death</td>\n",
       "      <td>1139</td>\n",
       "    </tr>\n",
       "    <tr>\n",
       "      <th>91</th>\n",
       "      <td>time</td>\n",
       "      <td>1096</td>\n",
       "    </tr>\n",
       "    <tr>\n",
       "      <th>63</th>\n",
       "      <td>ll</td>\n",
       "      <td>1069</td>\n",
       "    </tr>\n",
       "    <tr>\n",
       "      <th>...</th>\n",
       "      <td>...</td>\n",
       "      <td>...</td>\n",
       "    </tr>\n",
       "    <tr>\n",
       "      <th>90</th>\n",
       "      <td>till</td>\n",
       "      <td>215</td>\n",
       "    </tr>\n",
       "    <tr>\n",
       "      <th>37</th>\n",
       "      <td>good</td>\n",
       "      <td>214</td>\n",
       "    </tr>\n",
       "    <tr>\n",
       "      <th>82</th>\n",
       "      <td>save</td>\n",
       "      <td>213</td>\n",
       "    </tr>\n",
       "    <tr>\n",
       "      <th>85</th>\n",
       "      <td>stop</td>\n",
       "      <td>211</td>\n",
       "    </tr>\n",
       "    <tr>\n",
       "      <th>66</th>\n",
       "      <td>lord</td>\n",
       "      <td>210</td>\n",
       "    </tr>\n",
       "  </tbody>\n",
       "</table>\n",
       "<p>100 rows × 2 columns</p>\n",
       "</div>"
      ],
      "text/plain": [
       "   Palabra  Frecuencia\n",
       "57    life        1233\n",
       "19     don        1181\n",
       "16   death        1139\n",
       "91    time        1096\n",
       "63      ll        1069\n",
       "..     ...         ...\n",
       "90    till         215\n",
       "37    good         214\n",
       "82    save         213\n",
       "85    stop         211\n",
       "66    lord         210\n",
       "\n",
       "[100 rows x 2 columns]"
      ]
     },
     "metadata": {},
     "output_type": "display_data"
    },
    {
     "name": "stdout",
     "output_type": "stream",
     "text": [
      "Dataframe de Género: hiphop\n"
     ]
    },
    {
     "data": {
      "text/html": [
       "<div>\n",
       "<style scoped>\n",
       "    .dataframe tbody tr th:only-of-type {\n",
       "        vertical-align: middle;\n",
       "    }\n",
       "\n",
       "    .dataframe tbody tr th {\n",
       "        vertical-align: top;\n",
       "    }\n",
       "\n",
       "    .dataframe thead th {\n",
       "        text-align: right;\n",
       "    }\n",
       "</style>\n",
       "<table border=\"1\" class=\"dataframe\">\n",
       "  <thead>\n",
       "    <tr style=\"text-align: right;\">\n",
       "      <th></th>\n",
       "      <th>Palabra</th>\n",
       "      <th>Frecuencia</th>\n",
       "    </tr>\n",
       "  </thead>\n",
       "  <tbody>\n",
       "    <tr>\n",
       "      <th>47</th>\n",
       "      <td>like</td>\n",
       "      <td>12055</td>\n",
       "    </tr>\n",
       "    <tr>\n",
       "      <th>31</th>\n",
       "      <td>got</td>\n",
       "      <td>7613</td>\n",
       "    </tr>\n",
       "    <tr>\n",
       "      <th>18</th>\n",
       "      <td>don</td>\n",
       "      <td>7604</td>\n",
       "    </tr>\n",
       "    <tr>\n",
       "      <th>43</th>\n",
       "      <td>know</td>\n",
       "      <td>6535</td>\n",
       "    </tr>\n",
       "    <tr>\n",
       "      <th>42</th>\n",
       "      <td>just</td>\n",
       "      <td>6272</td>\n",
       "    </tr>\n",
       "    <tr>\n",
       "      <th>...</th>\n",
       "      <td>...</td>\n",
       "      <td>...</td>\n",
       "    </tr>\n",
       "    <tr>\n",
       "      <th>80</th>\n",
       "      <td>talk</td>\n",
       "      <td>823</td>\n",
       "    </tr>\n",
       "    <tr>\n",
       "      <th>54</th>\n",
       "      <td>ma</td>\n",
       "      <td>821</td>\n",
       "    </tr>\n",
       "    <tr>\n",
       "      <th>89</th>\n",
       "      <td>verse</td>\n",
       "      <td>820</td>\n",
       "    </tr>\n",
       "    <tr>\n",
       "      <th>13</th>\n",
       "      <td>chorus</td>\n",
       "      <td>811</td>\n",
       "    </tr>\n",
       "    <tr>\n",
       "      <th>9</th>\n",
       "      <td>bout</td>\n",
       "      <td>808</td>\n",
       "    </tr>\n",
       "  </tbody>\n",
       "</table>\n",
       "<p>100 rows × 2 columns</p>\n",
       "</div>"
      ],
      "text/plain": [
       "   Palabra  Frecuencia\n",
       "47    like       12055\n",
       "31     got        7613\n",
       "18     don        7604\n",
       "43    know        6535\n",
       "42    just        6272\n",
       "..     ...         ...\n",
       "80    talk         823\n",
       "54      ma         821\n",
       "89   verse         820\n",
       "13  chorus         811\n",
       "9     bout         808\n",
       "\n",
       "[100 rows x 2 columns]"
      ]
     },
     "metadata": {},
     "output_type": "display_data"
    },
    {
     "name": "stdout",
     "output_type": "stream",
     "text": [
      "Dataframe de Género: rock\n"
     ]
    },
    {
     "data": {
      "text/html": [
       "<div>\n",
       "<style scoped>\n",
       "    .dataframe tbody tr th:only-of-type {\n",
       "        vertical-align: middle;\n",
       "    }\n",
       "\n",
       "    .dataframe tbody tr th {\n",
       "        vertical-align: top;\n",
       "    }\n",
       "\n",
       "    .dataframe thead th {\n",
       "        text-align: right;\n",
       "    }\n",
       "</style>\n",
       "<table border=\"1\" class=\"dataframe\">\n",
       "  <thead>\n",
       "    <tr style=\"text-align: right;\">\n",
       "      <th></th>\n",
       "      <th>Palabra</th>\n",
       "      <th>Frecuencia</th>\n",
       "    </tr>\n",
       "  </thead>\n",
       "  <tbody>\n",
       "    <tr>\n",
       "      <th>14</th>\n",
       "      <td>don</td>\n",
       "      <td>5284</td>\n",
       "    </tr>\n",
       "    <tr>\n",
       "      <th>56</th>\n",
       "      <td>love</td>\n",
       "      <td>5114</td>\n",
       "    </tr>\n",
       "    <tr>\n",
       "      <th>42</th>\n",
       "      <td>know</td>\n",
       "      <td>4702</td>\n",
       "    </tr>\n",
       "    <tr>\n",
       "      <th>63</th>\n",
       "      <td>oh</td>\n",
       "      <td>4258</td>\n",
       "    </tr>\n",
       "    <tr>\n",
       "      <th>98</th>\n",
       "      <td>yeah</td>\n",
       "      <td>4157</td>\n",
       "    </tr>\n",
       "    <tr>\n",
       "      <th>...</th>\n",
       "      <td>...</td>\n",
       "      <td>...</td>\n",
       "    </tr>\n",
       "    <tr>\n",
       "      <th>88</th>\n",
       "      <td>town</td>\n",
       "      <td>558</td>\n",
       "    </tr>\n",
       "    <tr>\n",
       "      <th>21</th>\n",
       "      <td>fall</td>\n",
       "      <td>548</td>\n",
       "    </tr>\n",
       "    <tr>\n",
       "      <th>72</th>\n",
       "      <td>round</td>\n",
       "      <td>548</td>\n",
       "    </tr>\n",
       "    <tr>\n",
       "      <th>11</th>\n",
       "      <td>days</td>\n",
       "      <td>542</td>\n",
       "    </tr>\n",
       "    <tr>\n",
       "      <th>55</th>\n",
       "      <td>lost</td>\n",
       "      <td>541</td>\n",
       "    </tr>\n",
       "  </tbody>\n",
       "</table>\n",
       "<p>100 rows × 2 columns</p>\n",
       "</div>"
      ],
      "text/plain": [
       "   Palabra  Frecuencia\n",
       "14     don        5284\n",
       "56    love        5114\n",
       "42    know        4702\n",
       "63      oh        4258\n",
       "98    yeah        4157\n",
       "..     ...         ...\n",
       "88    town         558\n",
       "21    fall         548\n",
       "72   round         548\n",
       "11    days         542\n",
       "55    lost         541\n",
       "\n",
       "[100 rows x 2 columns]"
      ]
     },
     "metadata": {},
     "output_type": "display_data"
    },
    {
     "name": "stdout",
     "output_type": "stream",
     "text": [
      "Dataframe de Género: pop\n"
     ]
    },
    {
     "data": {
      "text/html": [
       "<div>\n",
       "<style scoped>\n",
       "    .dataframe tbody tr th:only-of-type {\n",
       "        vertical-align: middle;\n",
       "    }\n",
       "\n",
       "    .dataframe tbody tr th {\n",
       "        vertical-align: top;\n",
       "    }\n",
       "\n",
       "    .dataframe thead th {\n",
       "        text-align: right;\n",
       "    }\n",
       "</style>\n",
       "<table border=\"1\" class=\"dataframe\">\n",
       "  <thead>\n",
       "    <tr style=\"text-align: right;\">\n",
       "      <th></th>\n",
       "      <th>Palabra</th>\n",
       "      <th>Frecuencia</th>\n",
       "    </tr>\n",
       "  </thead>\n",
       "  <tbody>\n",
       "    <tr>\n",
       "      <th>22</th>\n",
       "      <td>don</td>\n",
       "      <td>3329</td>\n",
       "    </tr>\n",
       "    <tr>\n",
       "      <th>50</th>\n",
       "      <td>like</td>\n",
       "      <td>2995</td>\n",
       "    </tr>\n",
       "    <tr>\n",
       "      <th>55</th>\n",
       "      <td>love</td>\n",
       "      <td>2914</td>\n",
       "    </tr>\n",
       "    <tr>\n",
       "      <th>68</th>\n",
       "      <td>oh</td>\n",
       "      <td>2737</td>\n",
       "    </tr>\n",
       "    <tr>\n",
       "      <th>45</th>\n",
       "      <td>know</td>\n",
       "      <td>2677</td>\n",
       "    </tr>\n",
       "    <tr>\n",
       "      <th>...</th>\n",
       "      <td>...</td>\n",
       "      <td>...</td>\n",
       "    </tr>\n",
       "    <tr>\n",
       "      <th>17</th>\n",
       "      <td>crazy</td>\n",
       "      <td>282</td>\n",
       "    </tr>\n",
       "    <tr>\n",
       "      <th>81</th>\n",
       "      <td>thing</td>\n",
       "      <td>274</td>\n",
       "    </tr>\n",
       "    <tr>\n",
       "      <th>25</th>\n",
       "      <td>everybody</td>\n",
       "      <td>270</td>\n",
       "    </tr>\n",
       "    <tr>\n",
       "      <th>23</th>\n",
       "      <td>eh</td>\n",
       "      <td>269</td>\n",
       "    </tr>\n",
       "    <tr>\n",
       "      <th>15</th>\n",
       "      <td>chick</td>\n",
       "      <td>267</td>\n",
       "    </tr>\n",
       "  </tbody>\n",
       "</table>\n",
       "<p>100 rows × 2 columns</p>\n",
       "</div>"
      ],
      "text/plain": [
       "      Palabra  Frecuencia\n",
       "22        don        3329\n",
       "50       like        2995\n",
       "55       love        2914\n",
       "68         oh        2737\n",
       "45       know        2677\n",
       "..        ...         ...\n",
       "17      crazy         282\n",
       "81      thing         274\n",
       "25  everybody         270\n",
       "23         eh         269\n",
       "15      chick         267\n",
       "\n",
       "[100 rows x 2 columns]"
      ]
     },
     "metadata": {},
     "output_type": "display_data"
    },
    {
     "data": {
      "image/png": "[encoded data removed]",
      "text/plain": [
       "<Figure size 720x576 with 1 Axes>"
      ]
     },
     "metadata": {
      "needs_background": "light"
     },
     "output_type": "display_data"
    },
    {
     "data": {
      "image/png": "[encoded data removed]",
      "text/plain": [
       "<Figure size 720x576 with 1 Axes>"
      ]
     },
     "metadata": {
      "needs_background": "light"
     },
     "output_type": "display_data"
    },
    {
     "data": {
      "image/png": "[encoded data removed]",
      "text/plain": [
       "<Figure size 720x576 with 1 Axes>"
      ]
     },
     "metadata": {
      "needs_background": "light"
     },
     "output_type": "display_data"
    },
    {
     "data": {
      "image/png": "[encoded data removed]",
      "text/plain": [
       "<Figure size 720x576 with 1 Axes>"
      ]
     },
     "metadata": {
      "needs_background": "light"
     },
     "output_type": "display_data"
    }
   ],
   "source": [
    "# DataFrame de palabras y frecuencias por cada género y gráficos de barra con las 10 palabras más frecuentes en cada género\n",
    "\n",
    "for gen in df['Género'].unique():\n",
    "    \n",
    "    # Llamado a función que extrae palabras por género\n",
    "    genero_df= extrae_palabras(df,'Letra',100, gen);\n",
    "    display(genero_df)\n",
    "    \n",
    "    # Llamando a función para realizar gráficos en barra con las 10 palabras más frecuentes\n",
    "    # Se entrega el DataFrame con las 10 palabras más frecuentes por género para simplificar y poder interpretar resultados\n",
    "    grafico_barras(genero_df.head(10), genero_df.columns[0], genero_df.columns[1], 0, gen);\n",
    "    \n",
    "    "
   ]
  },
  {
   "cell_type": "markdown",
   "id": "129b871b",
   "metadata": {},
   "source": [
    "- Comente sobre las principales características de cada género en cuanto a sus palabras."
   ]
  },
  {
   "cell_type": "markdown",
   "id": "28df5b22",
   "metadata": {},
   "source": [
    "**Comentarios**\n",
    "\n",
    "- Analizando las palabras más frecuentes por género, es posible notar que las canciones que corresponden al género metal tienen asociación de palabras relacionadas a la vida, muerte, tiempo (time), saber/conocer (know), sangre, no/negación (don), solo/solamente (just), contracción de will para un verbo en acción futura (ll) y gustar (like).\n",
    "\n",
    "- Por otro lado, el género hiphop tiene palabras asociadas a gustar, saber/conocer, tener (got), diferentes formas de negación, hombre, solo/solamente, alguna mala palabra vulgar o grosera.\n",
    "\n",
    "- En el caso del rock, la asociación de palabras fue: no/negación, amor, saber/conocer, expresión(yeah!), solo/solamente, tener, gustar, contracción de will para un verbo en acción futura, expresión oh!\n",
    "\n",
    "- Para el pop la asociación de palabras fue: negación/no, gustar, amor, expresión oh!, conocer/saber, solo/solamente, expresión yeah!, baby, tener y contracción de will para un verbo en acción futura\n",
    "\n",
    "- Es posible notar que el set de términos de rock/pop tiene varias palabras comunes\n",
    "\n",
    "- Los palabras know, just, don (don't), like se encuentran presentes en todos los géneros. La palabra got y la contracción de will (ll) se encuentran presente en todos los géneros, con la excepción del metal."
   ]
  },
  {
   "cell_type": "markdown",
   "id": "088365d0",
   "metadata": {},
   "source": [
    "### Ejercicio 4: Entrenamiento del Modelo\n",
    "\n",
    "#### Digresión: sklearn Pipelines\n",
    "La clase Pipeline del módulo `sklearn.pipeline` permite concatenar múltiples pasos de procesamiento y preprocesamiento en un estimador generado por algún método de scikit-learn. En sí, la clase cuenta con los métodos clásicos `fit`, `predict` y `score` y presenta un comportamiento idéntico a los demás objetos de scikit-learn. Uno de los usos más comunes es para concatenar pasos de preprocesamiento con un modelo. _Esto es especialmente útil cuando se quiere automatizar el uso de un modelo en producción_.\n",
    "\n",
    "#### Componentes de un Pipeline\n",
    "Imaginemos que deseamos implementar el siguiente modelo. Considerando un conjunto de datos, deseo Estandarizar, posteriormente extraer sus principales componentes y finalmente aplicar un modelo de regresión lineal. Este flujo se puede reexpresar como:\n",
    "```python\n",
    "pipeline_model = Pipeline([                      # Pipeline recibe una lista de tuplas, donde cada tupla tiene una etiqueta y un paso a realizar\n",
    "    ('scale', StandardScaler()),                 # Paso 1: Estandarizar los datos\n",
    "    ('pca', RandomizedPCA(n_components=3)),      # Paso 2: Aplicar PCA\n",
    "    ('model', LinearRegression())                # Paso 3: Ajustar un modelo de regresión lineal\n",
    "])\n",
    "```\n",
    "\n",
    "**Algunos de los elementos a considerar**:\n",
    "- Cada paso se considera como una tupla, donde se declara el nombre del paso y la función a implementar. En este caso, nuestro primer paso es estandarizar la matriz, por lo que asociamos el método `StandardScaler` con el string `'scale'`.\n",
    "- Todos los pasos declarados se incorporan en una lista, donde el orden de ingreso representa el orden de ejecución.\n",
    "\n",
    "Posteriormente el objeto creado puede utilizarse con los siguientes métodos\n",
    "- `pipeline_model.fit(X_train, y_train)`\n",
    "- `y_hat = pipeline_model.predict(X_test)`"
   ]
  },
  {
   "cell_type": "markdown",
   "id": "48067eed",
   "metadata": {},
   "source": [
    "- Importe `MultinomialNB`, `train_test_split`, `Pipeline`, `ConfusionMatrixDisplay` y `classification_report`."
   ]
  },
  {
   "cell_type": "code",
   "execution_count": 13,
   "id": "b5e2286f",
   "metadata": {},
   "outputs": [],
   "source": [
    "# Utiliza esta celda para importar los módulos solicitados\n",
    "\n",
    "from sklearn.naive_bayes import MultinomialNB\n",
    "from sklearn.model_selection import train_test_split\n",
    "from sklearn.pipeline import Pipeline\n",
    "\n",
    "from sklearn.metrics import classification_report\n",
    "from sklearn.metrics import confusion_matrix, ConfusionMatrixDisplay\n"
   ]
  },
  {
   "cell_type": "markdown",
   "id": "1ce702db",
   "metadata": {},
   "source": [
    "- Genere las muestras de entrenamiento y validación reservando un 40% para validación y declarando una semilla pseudoaleatoria."
   ]
  },
  {
   "cell_type": "code",
   "execution_count": 14,
   "id": "5d1177bd",
   "metadata": {},
   "outputs": [],
   "source": [
    "# Utiliza esta celda para generar las muestras\n",
    "\n",
    "X=df['Letra']\n",
    "\n",
    "# Vector objetivo\n",
    "y=df['Género']\n",
    "\n",
    "# División de la muestra en datos de entrenamiento y Test\n",
    "X_train, X_test, y_train, y_test = train_test_split(X, y, test_size=.40, random_state=1111)\n"
   ]
  },
  {
   "cell_type": "markdown",
   "id": "9c45d3a2",
   "metadata": {},
   "source": [
    "- Monte el modelo dentro de un `Pipeline`, donde el primer paso es implementar `CountVectorizer` y el segundo es ejecutar el clasificador `MultinomialNB` con `alpha=0.1`."
   ]
  },
  {
   "cell_type": "code",
   "execution_count": 15,
   "id": "d1dd1f01",
   "metadata": {},
   "outputs": [
    {
     "data": {
      "text/html": [
       "<style>#sk-container-id-1 {color: black;}#sk-container-id-1 pre{padding: 0;}#sk-container-id-1 div.sk-toggleable {background-color: white;}#sk-container-id-1 label.sk-toggleable__label {cursor: pointer;display: block;width: 100%;margin-bottom: 0;padding: 0.3em;box-sizing: border-box;text-align: center;}#sk-container-id-1 label.sk-toggleable__label-arrow:before {content: \"▸\";float: left;margin-right: 0.25em;color: #696969;}#sk-container-id-1 label.sk-toggleable__label-arrow:hover:before {color: black;}#sk-container-id-1 div.sk-estimator:hover label.sk-toggleable__label-arrow:before {color: black;}#sk-container-id-1 div.sk-toggleable__content {max-height: 0;max-width: 0;overflow: hidden;text-align: left;background-color: #f0f8ff;}#sk-container-id-1 div.sk-toggleable__content pre {margin: 0.2em;color: black;border-radius: 0.25em;background-color: #f0f8ff;}#sk-container-id-1 input.sk-toggleable__control:checked~div.sk-toggleable__content {max-height: 200px;max-width: 100%;overflow: auto;}#sk-container-id-1 input.sk-toggleable__control:checked~label.sk-toggleable__label-arrow:before {content: \"▾\";}#sk-container-id-1 div.sk-estimator input.sk-toggleable__control:checked~label.sk-toggleable__label {background-color: #d4ebff;}#sk-container-id-1 div.sk-label input.sk-toggleable__control:checked~label.sk-toggleable__label {background-color: #d4ebff;}#sk-container-id-1 input.sk-hidden--visually {border: 0;clip: rect(1px 1px 1px 1px);clip: rect(1px, 1px, 1px, 1px);height: 1px;margin: -1px;overflow: hidden;padding: 0;position: absolute;width: 1px;}#sk-container-id-1 div.sk-estimator {font-family: monospace;background-color: #f0f8ff;border: 1px dotted black;border-radius: 0.25em;box-sizing: border-box;margin-bottom: 0.5em;}#sk-container-id-1 div.sk-estimator:hover {background-color: #d4ebff;}#sk-container-id-1 div.sk-parallel-item::after {content: \"\";width: 100%;border-bottom: 1px solid gray;flex-grow: 1;}#sk-container-id-1 div.sk-label:hover label.sk-toggleable__label {background-color: #d4ebff;}#sk-container-id-1 div.sk-serial::before {content: \"\";position: absolute;border-left: 1px solid gray;box-sizing: border-box;top: 0;bottom: 0;left: 50%;z-index: 0;}#sk-container-id-1 div.sk-serial {display: flex;flex-direction: column;align-items: center;background-color: white;padding-right: 0.2em;padding-left: 0.2em;position: relative;}#sk-container-id-1 div.sk-item {position: relative;z-index: 1;}#sk-container-id-1 div.sk-parallel {display: flex;align-items: stretch;justify-content: center;background-color: white;position: relative;}#sk-container-id-1 div.sk-item::before, #sk-container-id-1 div.sk-parallel-item::before {content: \"\";position: absolute;border-left: 1px solid gray;box-sizing: border-box;top: 0;bottom: 0;left: 50%;z-index: -1;}#sk-container-id-1 div.sk-parallel-item {display: flex;flex-direction: column;z-index: 1;position: relative;background-color: white;}#sk-container-id-1 div.sk-parallel-item:first-child::after {align-self: flex-end;width: 50%;}#sk-container-id-1 div.sk-parallel-item:last-child::after {align-self: flex-start;width: 50%;}#sk-container-id-1 div.sk-parallel-item:only-child::after {width: 0;}#sk-container-id-1 div.sk-dashed-wrapped {border: 1px dashed gray;margin: 0 0.4em 0.5em 0.4em;box-sizing: border-box;padding-bottom: 0.4em;background-color: white;}#sk-container-id-1 div.sk-label label {font-family: monospace;font-weight: bold;display: inline-block;line-height: 1.2em;}#sk-container-id-1 div.sk-label-container {text-align: center;}#sk-container-id-1 div.sk-container {/* jupyter's `normalize.less` sets `[hidden] { display: none; }` but bootstrap.min.css set `[hidden] { display: none !important; }` so we also need the `!important` here to be able to override the default hidden behavior on the sphinx rendered scikit-learn.org. See: https://github.com/scikit-learn/scikit-learn/issues/21755 */display: inline-block !important;position: relative;}#sk-container-id-1 div.sk-text-repr-fallback {display: none;}</style><div id=\"sk-container-id-1\" class=\"sk-top-container\"><div class=\"sk-text-repr-fallback\"><pre>Pipeline(steps=[(&#x27;c_vectorizer&#x27;, CountVectorizer(stop_words=&#x27;english&#x27;)),\n",
       "                (&#x27;clasificador&#x27;, MultinomialNB(alpha=0.1))])</pre><b>In a Jupyter environment, please rerun this cell to show the HTML representation or trust the notebook. <br />On GitHub, the HTML representation is unable to render, please try loading this page with nbviewer.org.</b></div><div class=\"sk-container\" hidden><div class=\"sk-item sk-dashed-wrapped\"><div class=\"sk-label-container\"><div class=\"sk-label sk-toggleable\"><input class=\"sk-toggleable__control sk-hidden--visually\" id=\"sk-estimator-id-1\" type=\"checkbox\" ><label for=\"sk-estimator-id-1\" class=\"sk-toggleable__label sk-toggleable__label-arrow\">Pipeline</label><div class=\"sk-toggleable__content\"><pre>Pipeline(steps=[(&#x27;c_vectorizer&#x27;, CountVectorizer(stop_words=&#x27;english&#x27;)),\n",
       "                (&#x27;clasificador&#x27;, MultinomialNB(alpha=0.1))])</pre></div></div></div><div class=\"sk-serial\"><div class=\"sk-item\"><div class=\"sk-estimator sk-toggleable\"><input class=\"sk-toggleable__control sk-hidden--visually\" id=\"sk-estimator-id-2\" type=\"checkbox\" ><label for=\"sk-estimator-id-2\" class=\"sk-toggleable__label sk-toggleable__label-arrow\">CountVectorizer</label><div class=\"sk-toggleable__content\"><pre>CountVectorizer(stop_words=&#x27;english&#x27;)</pre></div></div></div><div class=\"sk-item\"><div class=\"sk-estimator sk-toggleable\"><input class=\"sk-toggleable__control sk-hidden--visually\" id=\"sk-estimator-id-3\" type=\"checkbox\" ><label for=\"sk-estimator-id-3\" class=\"sk-toggleable__label sk-toggleable__label-arrow\">MultinomialNB</label><div class=\"sk-toggleable__content\"><pre>MultinomialNB(alpha=0.1)</pre></div></div></div></div></div></div></div>"
      ],
      "text/plain": [
       "Pipeline(steps=[('c_vectorizer', CountVectorizer(stop_words='english')),\n",
       "                ('clasificador', MultinomialNB(alpha=0.1))])"
      ]
     },
     "execution_count": 15,
     "metadata": {},
     "output_type": "execute_result"
    }
   ],
   "source": [
    "# Utiliza esta celda para crear el Pipeline solicitado y entrenarlo\n",
    "\n",
    "clasificador_canciones = Pipeline(\n",
    "    [\n",
    "        ('c_vectorizer', CountVectorizer(stop_words='english')),\n",
    "        ('clasificador', MultinomialNB(alpha=0.1))\n",
    "    ]\n",
    ")\n",
    "\n",
    "clasificador_canciones.fit(X_train, y_train)\n"
   ]
  },
  {
   "cell_type": "markdown",
   "id": "3fda32fb",
   "metadata": {},
   "source": [
    "- A continuación se les presenta una lista de letras, ¿cuáles serían las predicciones correspondientes?\n",
    "\n",
    "```python\n",
    "[\n",
    "    'I got a place in the underworld', # Brody Dalle - Underworld\n",
    "    'As veils of ignorance, hatred retains Storm of arrows through karma Seeking light through samsara', # Gorguts - Forgotten Arrows\n",
    "    \"Bye bye Don't want to be a fool for you Just another player in your game for two You may hate me but it ain't no lie\", # N'SYNC - Bye Bye Bye\n",
    "    'Move bitch, get out the way Get out the way bitch, get out the way Move bitch, get out the way Get out the way bitch, get out the way', # Ludacris - Move Btch\n",
    "    \"Sexual violence doesn't start and end with rape It starts in our books and behind our school gate\" # IDLES - Mother,\n",
    "    \"Take it from the girl you claimed to love You gonna get some bad karma I'm the one who had to learn to \\\n",
    "    build a heart made of armor From the girl who made you soup and tied your shoes when you were hurting\\\n",
    "    You are not deserving, you are not deserving\" #Banks - Drowning\n",
    "]\n",
    "```"
   ]
  },
  {
   "cell_type": "code",
   "execution_count": 16,
   "id": "9398767c",
   "metadata": {},
   "outputs": [
    {
     "data": {
      "text/plain": [
       "array(['rock', 'metal', 'pop', 'pop', 'metal', 'rock'], dtype='<U6')"
      ]
     },
     "execution_count": 16,
     "metadata": {},
     "output_type": "execute_result"
    }
   ],
   "source": [
    "# Utiliza esta celda para realizar las predicciones para la lista de letras entregada\n",
    "\n",
    "lista_letra_canciones= [\n",
    "    'I got a place in the underworld', # Brody Dalle - Underworld\n",
    "    'As veils of ignorance, hatred retains Storm of arrows through karma Seeking light through samsara', # Gorguts - Forgotten Arrows\n",
    "    \"Bye bye Don't want to be a fool for you Just another player in your game for two You may hate me but it ain't no lie\", # N'SYNC - Bye Bye Bye\n",
    "    'Move bitch, get out the way Get out the way bitch, get out the way Move bitch, get out the way Get out the way bitch, get out the way', # Ludacris - Move Btch\n",
    "    \"Sexual violence doesn't start and end with rape It starts in our books and behind our school gate\", # IDLES - Mother,\n",
    "    \"Take it from the girl you claimed to love You gonna get some bad karma I'm the one who had to learn to \\\n",
    "    build a heart made of armor From the girl who made you soup and tied your shoes when you were hurting\\\n",
    "    You are not deserving, you are not deserving\" #Banks - Drowning\n",
    "]\n",
    "\n",
    "\n",
    "clasificador_canciones.predict(lista_letra_canciones)"
   ]
  },
  {
   "cell_type": "markdown",
   "id": "bd150d5a",
   "metadata": {},
   "source": [
    "**Comentarios** \n",
    "\n",
    "- Explorando las canciones, es posible indicar que las clasificaciones de rock, metal y pop entregadas para las canciones Brody Dalle - Underworld, Gorguts - Forgotten Arrows y N'SYNC - Bye Bye Bye respectivamente fueron asertivas.\n",
    "\n",
    "- Para la canción de Banks - Drowning la predicción fue asertiva de manera moderada, ya que la canción está más asociada a líneas de pop que de rock. Aunque tiene sentido que el modelo la haya clasificado como rock, ya que en los puntos anteriores fue posible notar que los set de palabras más frecuentes entre rock y pop eran similares. Algo similar ocurre con la canción IDLES - Mother, la cual fue clasificada como metal, aunque tiene una asociación más hacia el rock.\n",
    "\n",
    "- Para el caso de la canción de Ludacris - Move Btch, la clasificó como pop, aunque su asociación es hiphop, esto ocurrió quizás porque el set de palabras de hiphop es más genérico y contiene contracciones de palabras, términos vulgares y modificaciones de palabras coloquiales que resulta más difícil de identificar\n",
    "\n",
    "*---------------------------------------------------------------------------------------------------------------------------------------------------------------------------------------------------------------*"
   ]
  },
  {
   "cell_type": "markdown",
   "id": "d8204178",
   "metadata": {},
   "source": [
    "- Genere una predicción implementando la muestra de validación y contraste las predicciones del modelo con las etiquetas verdaderas. Reporte las principales métricas."
   ]
  },
  {
   "cell_type": "code",
   "execution_count": 17,
   "id": "d1def056",
   "metadata": {},
   "outputs": [
    {
     "data": {
      "text/plain": [
       "array(['rock', 'rock', 'rock', ..., 'hiphop', 'pop', 'hiphop'],\n",
       "      dtype='<U6')"
      ]
     },
     "execution_count": 17,
     "metadata": {},
     "output_type": "execute_result"
    }
   ],
   "source": [
    "# Utiliza esta celda para generar las predicciones en los datos de validación\n",
    "\n",
    "y_hat = clasificador_canciones.predict(X_test)\n",
    "\n",
    "y_hat"
   ]
  },
  {
   "cell_type": "code",
   "execution_count": 18,
   "id": "0009026f",
   "metadata": {},
   "outputs": [
    {
     "data": {
      "image/png": "[encoded data removed]",
      "text/plain": [
       "<Figure size 432x288 with 2 Axes>"
      ]
     },
     "metadata": {
      "needs_background": "light"
     },
     "output_type": "display_data"
    }
   ],
   "source": [
    "# Utiliza esta celda para reportar las métricas\n",
    "\n",
    "# Confusion Matrix\n",
    "cm = confusion_matrix(y_test, y_hat)/len(y_test)\n",
    "\n",
    "\n",
    "# Etiquetas de las clases\n",
    "target_label = ['metal','hiphop', 'rock', 'pop']\n",
    "\n",
    "# Visualización Confusion Matrix\n",
    "cm_disp = ConfusionMatrixDisplay(confusion_matrix=cm, display_labels=target_label)\n",
    "cm_disp.plot(cmap = 'Blues')\n",
    "plt.show();\n"
   ]
  },
  {
   "cell_type": "code",
   "execution_count": 19,
   "id": "c3a782e6",
   "metadata": {},
   "outputs": [
    {
     "name": "stdout",
     "output_type": "stream",
     "text": [
      "              precision    recall  f1-score   support\n",
      "\n",
      "      hiphop       0.84      0.93      0.88      1029\n",
      "       metal       0.76      0.77      0.76       622\n",
      "         pop       0.59      0.53      0.56       488\n",
      "        rock       0.81      0.78      0.79      1657\n",
      "\n",
      "    accuracy                           0.79      3796\n",
      "   macro avg       0.75      0.75      0.75      3796\n",
      "weighted avg       0.78      0.79      0.78      3796\n",
      "\n"
     ]
    }
   ],
   "source": [
    "# Reporte de métricas de precisión\n",
    "\n",
    "print(classification_report(y_test, y_hat))"
   ]
  },
  {
   "cell_type": "markdown",
   "id": "b8f46e19",
   "metadata": {},
   "source": [
    "**Comentarios**\n",
    "\n",
    "Matriz de Confusión\n",
    "- Observando la diagonal de la matriz de confusión es posible indicar que se predijo correctamente el 78.8% de las muestras de los datos de validación\n",
    "\n",
    "- Observando las valores predichos del género pop es posible observar que 34% de los datos fueron clasificados de manera correcta y 7.8% de los datos fueron clasificados de manera errónea en otros géneros, siendo el 7.8% el porcentaje más alto de clasificación errónea, en comparación a los otros géneros. Para el resto de los géneros se obtuvo entre 4% a 5% de clasificaciones erróneas.\n",
    "\n",
    "- Es posible mencionar que existen valores bajos del 0.16% y 0,37% en los valores predichos de hiphop con los géneros metal y rock respectivamente, lo cual indica que el modelo delimita de buena forma las muestras que originalmente pertenecen al género metal y hiphop, además de rock y hiphop, es decir, el clasificador maneja un aprendizaje bueno en relación al límite de las clasificaciones entre los géneros hiphop con metal y hiphop con rock.\n",
    "\n",
    "Métricas\n",
    "- Tal como se indicó por la matriz de confusión, el valor de accuracy global es del 79% aprox, aunque sabemos que las clases no se encuentran balanceadas.\n",
    "- Mirando los valores de precisión, la cual mide la exactitud de las predicciones en las clases positivas. La mayoría de los géneros tiene buen desempeño (superior a un 75%), con la excepción del género pop que tiene un valor de 59%. Para la métrica recall la mayoría tiene valores de un relativo buen desempeño, con la excepción del género pop, lo cual implica que puede identificar correctamente sólo el 53% de los casos positivos de la clase con género pop del total de positivos verdaderos\n",
    "\n",
    "- Dado que tenemos clases desbalanceadas, la métrica que mejor representa el desempeño del modelo es F1. Todos los géneros musicales presentan un desempeño relativamente bueno con valores superiores al 75%, menos el género pop que tiene un valor de 56%\n",
    "\n",
    "- Es posible que estos resultados se produzcan, dado que podamos notar que una parte pequeña de la muestra de testeo de validación corresponde al género pop; esta clase se encuentra poco representada.\n",
    "\n",
    "\n"
   ]
  },
  {
   "cell_type": "markdown",
   "id": "31552c4e",
   "metadata": {},
   "source": [
    "### Ejercicio 5: Mejora del Modelo\n",
    "- Proponga una estrategia para mejorar el desempeño del modelo en la categoría con peores métricas.\n",
    "- Repita los pasos de entrenamiento y reporte de métricas, esta vez incluyendo los nuevos datos suministrados.\n",
    "- Comente sobre el desempeño general de este."
   ]
  },
  {
   "cell_type": "markdown",
   "id": "ec542e92",
   "metadata": {},
   "source": [
    "**Comentarios**\n",
    "- Dado que las métricas obtenidas para el género \"pop\" fueron bajas y debido a que era la clase de género con menos representación en el set de datos utilizado, vamos a incluir más datos de este género y generar un nuevo modelo para evaluar si es que se producen cambios en el desempeño"
   ]
  },
  {
   "cell_type": "code",
   "execution_count": 20,
   "id": "8c230a92",
   "metadata": {},
   "outputs": [
    {
     "data": {
      "text/html": [
       "<div>\n",
       "<style scoped>\n",
       "    .dataframe tbody tr th:only-of-type {\n",
       "        vertical-align: middle;\n",
       "    }\n",
       "\n",
       "    .dataframe tbody tr th {\n",
       "        vertical-align: top;\n",
       "    }\n",
       "\n",
       "    .dataframe thead th {\n",
       "        text-align: right;\n",
       "    }\n",
       "</style>\n",
       "<table border=\"1\" class=\"dataframe\">\n",
       "  <thead>\n",
       "    <tr style=\"text-align: right;\">\n",
       "      <th></th>\n",
       "      <th>Artista</th>\n",
       "      <th>Género</th>\n",
       "      <th>Canción</th>\n",
       "      <th>Letra</th>\n",
       "    </tr>\n",
       "  </thead>\n",
       "  <tbody>\n",
       "    <tr>\n",
       "      <th>0</th>\n",
       "      <td>Anthrax</td>\n",
       "      <td>metal</td>\n",
       "      <td>Deathrider</td>\n",
       "      <td>Riding hard, high in the saddle \\n Winged stee...</td>\n",
       "    </tr>\n",
       "    <tr>\n",
       "      <th>1</th>\n",
       "      <td>Anthrax</td>\n",
       "      <td>metal</td>\n",
       "      <td>Metal Thrashing Mad</td>\n",
       "      <td>Racing down the road \\n In a street machine of...</td>\n",
       "    </tr>\n",
       "    <tr>\n",
       "      <th>2</th>\n",
       "      <td>Anthrax</td>\n",
       "      <td>metal</td>\n",
       "      <td>I'm Eighteen</td>\n",
       "      <td>Lines form on my face and hands \\n Lines form ...</td>\n",
       "    </tr>\n",
       "    <tr>\n",
       "      <th>3</th>\n",
       "      <td>Anthrax</td>\n",
       "      <td>metal</td>\n",
       "      <td>Panic</td>\n",
       "      <td>Move it to the front \\n Reaching for the light...</td>\n",
       "    </tr>\n",
       "    <tr>\n",
       "      <th>4</th>\n",
       "      <td>Anthrax</td>\n",
       "      <td>metal</td>\n",
       "      <td>Subjugator</td>\n",
       "      <td>Out in the streets \\n We're fighting tonight \\...</td>\n",
       "    </tr>\n",
       "    <tr>\n",
       "      <th>5</th>\n",
       "      <td>Anthrax</td>\n",
       "      <td>metal</td>\n",
       "      <td>Soldiers Of Metal</td>\n",
       "      <td>We are fighting for your lives \\n Ooh, we are ...</td>\n",
       "    </tr>\n",
       "    <tr>\n",
       "      <th>6</th>\n",
       "      <td>Anthrax</td>\n",
       "      <td>metal</td>\n",
       "      <td>Death From Above</td>\n",
       "      <td>Like the screaming eagle \\n I'm on the run \\n ...</td>\n",
       "    </tr>\n",
       "    <tr>\n",
       "      <th>7</th>\n",
       "      <td>Anthrax</td>\n",
       "      <td>metal</td>\n",
       "      <td>Anthrax</td>\n",
       "      <td>Steel shattered in the night \\n Soldiers racin...</td>\n",
       "    </tr>\n",
       "    <tr>\n",
       "      <th>8</th>\n",
       "      <td>Anthrax</td>\n",
       "      <td>metal</td>\n",
       "      <td>Howling Furies</td>\n",
       "      <td>Abandon all hope for those who enter \\n Cause ...</td>\n",
       "    </tr>\n",
       "    <tr>\n",
       "      <th>9</th>\n",
       "      <td>Anthrax</td>\n",
       "      <td>metal</td>\n",
       "      <td>A.I.R.</td>\n",
       "      <td>Young and free, something you'll never be \\n A...</td>\n",
       "    </tr>\n",
       "  </tbody>\n",
       "</table>\n",
       "</div>"
      ],
      "text/plain": [
       "   Artista Género              Canción  \\\n",
       "0  Anthrax  metal           Deathrider   \n",
       "1  Anthrax  metal  Metal Thrashing Mad   \n",
       "2  Anthrax  metal         I'm Eighteen   \n",
       "3  Anthrax  metal                Panic   \n",
       "4  Anthrax  metal           Subjugator   \n",
       "5  Anthrax  metal    Soldiers Of Metal   \n",
       "6  Anthrax  metal     Death From Above   \n",
       "7  Anthrax  metal              Anthrax   \n",
       "8  Anthrax  metal       Howling Furies   \n",
       "9  Anthrax  metal               A.I.R.   \n",
       "\n",
       "                                               Letra  \n",
       "0  Riding hard, high in the saddle \\n Winged stee...  \n",
       "1  Racing down the road \\n In a street machine of...  \n",
       "2  Lines form on my face and hands \\n Lines form ...  \n",
       "3  Move it to the front \\n Reaching for the light...  \n",
       "4  Out in the streets \\n We're fighting tonight \\...  \n",
       "5  We are fighting for your lives \\n Ooh, we are ...  \n",
       "6  Like the screaming eagle \\n I'm on the run \\n ...  \n",
       "7  Steel shattered in the night \\n Soldiers racin...  \n",
       "8  Abandon all hope for those who enter \\n Cause ...  \n",
       "9  Young and free, something you'll never be \\n A...  "
      ]
     },
     "execution_count": 20,
     "metadata": {},
     "output_type": "execute_result"
    }
   ],
   "source": [
    "# Utiliza esta celda para crear un nuevo df de lyrics en base a las letras en dump_plus_pop\n",
    "# Llamando a la función para crear el DataFrame adicional\n",
    "\n",
    "# Path ruta de ubicación archivos\n",
    "path_p='/dump_plus_pop/*.csv'\n",
    "df_letras_pop =generar_df_letras(path_p, columnas_df)\n",
    "\n",
    "df_letras_pop.head(10)"
   ]
  },
  {
   "cell_type": "code",
   "execution_count": 21,
   "id": "fb7def6d",
   "metadata": {},
   "outputs": [
    {
     "data": {
      "text/plain": [
       "(10804, 4)"
      ]
     },
     "execution_count": 21,
     "metadata": {},
     "output_type": "execute_result"
    }
   ],
   "source": [
    "df_letras_pop.shape"
   ]
  },
  {
   "cell_type": "code",
   "execution_count": 22,
   "id": "3ddca0e0",
   "metadata": {},
   "outputs": [
    {
     "data": {
      "image/png": "[encoded data removed]",
      "text/plain": [
       "<Figure size 1296x720 with 1 Axes>"
      ]
     },
     "metadata": {
      "needs_background": "light"
     },
     "output_type": "display_data"
    }
   ],
   "source": [
    "# Exploramos la distribución de los géneros en el conjunto de datos con barplot\n",
    "grafico_barras(df_letras_pop, 'Género', 'Canción', 1);"
   ]
  },
  {
   "cell_type": "markdown",
   "id": "63026a7b",
   "metadata": {},
   "source": [
    "**Comentarios** \n",
    "\n",
    "- Es posible que el número de canciones clasificadas con el género pop aumentó de 1232 (set de datos del punto 1) a 2500 aprox. - El género metal es el menos representado ahora\n"
   ]
  },
  {
   "cell_type": "code",
   "execution_count": 23,
   "id": "85921b4f",
   "metadata": {},
   "outputs": [
    {
     "data": {
      "text/html": [
       "<style>#sk-container-id-2 {color: black;}#sk-container-id-2 pre{padding: 0;}#sk-container-id-2 div.sk-toggleable {background-color: white;}#sk-container-id-2 label.sk-toggleable__label {cursor: pointer;display: block;width: 100%;margin-bottom: 0;padding: 0.3em;box-sizing: border-box;text-align: center;}#sk-container-id-2 label.sk-toggleable__label-arrow:before {content: \"▸\";float: left;margin-right: 0.25em;color: #696969;}#sk-container-id-2 label.sk-toggleable__label-arrow:hover:before {color: black;}#sk-container-id-2 div.sk-estimator:hover label.sk-toggleable__label-arrow:before {color: black;}#sk-container-id-2 div.sk-toggleable__content {max-height: 0;max-width: 0;overflow: hidden;text-align: left;background-color: #f0f8ff;}#sk-container-id-2 div.sk-toggleable__content pre {margin: 0.2em;color: black;border-radius: 0.25em;background-color: #f0f8ff;}#sk-container-id-2 input.sk-toggleable__control:checked~div.sk-toggleable__content {max-height: 200px;max-width: 100%;overflow: auto;}#sk-container-id-2 input.sk-toggleable__control:checked~label.sk-toggleable__label-arrow:before {content: \"▾\";}#sk-container-id-2 div.sk-estimator input.sk-toggleable__control:checked~label.sk-toggleable__label {background-color: #d4ebff;}#sk-container-id-2 div.sk-label input.sk-toggleable__control:checked~label.sk-toggleable__label {background-color: #d4ebff;}#sk-container-id-2 input.sk-hidden--visually {border: 0;clip: rect(1px 1px 1px 1px);clip: rect(1px, 1px, 1px, 1px);height: 1px;margin: -1px;overflow: hidden;padding: 0;position: absolute;width: 1px;}#sk-container-id-2 div.sk-estimator {font-family: monospace;background-color: #f0f8ff;border: 1px dotted black;border-radius: 0.25em;box-sizing: border-box;margin-bottom: 0.5em;}#sk-container-id-2 div.sk-estimator:hover {background-color: #d4ebff;}#sk-container-id-2 div.sk-parallel-item::after {content: \"\";width: 100%;border-bottom: 1px solid gray;flex-grow: 1;}#sk-container-id-2 div.sk-label:hover label.sk-toggleable__label {background-color: #d4ebff;}#sk-container-id-2 div.sk-serial::before {content: \"\";position: absolute;border-left: 1px solid gray;box-sizing: border-box;top: 0;bottom: 0;left: 50%;z-index: 0;}#sk-container-id-2 div.sk-serial {display: flex;flex-direction: column;align-items: center;background-color: white;padding-right: 0.2em;padding-left: 0.2em;position: relative;}#sk-container-id-2 div.sk-item {position: relative;z-index: 1;}#sk-container-id-2 div.sk-parallel {display: flex;align-items: stretch;justify-content: center;background-color: white;position: relative;}#sk-container-id-2 div.sk-item::before, #sk-container-id-2 div.sk-parallel-item::before {content: \"\";position: absolute;border-left: 1px solid gray;box-sizing: border-box;top: 0;bottom: 0;left: 50%;z-index: -1;}#sk-container-id-2 div.sk-parallel-item {display: flex;flex-direction: column;z-index: 1;position: relative;background-color: white;}#sk-container-id-2 div.sk-parallel-item:first-child::after {align-self: flex-end;width: 50%;}#sk-container-id-2 div.sk-parallel-item:last-child::after {align-self: flex-start;width: 50%;}#sk-container-id-2 div.sk-parallel-item:only-child::after {width: 0;}#sk-container-id-2 div.sk-dashed-wrapped {border: 1px dashed gray;margin: 0 0.4em 0.5em 0.4em;box-sizing: border-box;padding-bottom: 0.4em;background-color: white;}#sk-container-id-2 div.sk-label label {font-family: monospace;font-weight: bold;display: inline-block;line-height: 1.2em;}#sk-container-id-2 div.sk-label-container {text-align: center;}#sk-container-id-2 div.sk-container {/* jupyter's `normalize.less` sets `[hidden] { display: none; }` but bootstrap.min.css set `[hidden] { display: none !important; }` so we also need the `!important` here to be able to override the default hidden behavior on the sphinx rendered scikit-learn.org. See: https://github.com/scikit-learn/scikit-learn/issues/21755 */display: inline-block !important;position: relative;}#sk-container-id-2 div.sk-text-repr-fallback {display: none;}</style><div id=\"sk-container-id-2\" class=\"sk-top-container\"><div class=\"sk-text-repr-fallback\"><pre>Pipeline(steps=[(&#x27;c_vectorizer&#x27;, CountVectorizer(stop_words=&#x27;english&#x27;)),\n",
       "                (&#x27;clasificador_p&#x27;, MultinomialNB(alpha=0.1))])</pre><b>In a Jupyter environment, please rerun this cell to show the HTML representation or trust the notebook. <br />On GitHub, the HTML representation is unable to render, please try loading this page with nbviewer.org.</b></div><div class=\"sk-container\" hidden><div class=\"sk-item sk-dashed-wrapped\"><div class=\"sk-label-container\"><div class=\"sk-label sk-toggleable\"><input class=\"sk-toggleable__control sk-hidden--visually\" id=\"sk-estimator-id-4\" type=\"checkbox\" ><label for=\"sk-estimator-id-4\" class=\"sk-toggleable__label sk-toggleable__label-arrow\">Pipeline</label><div class=\"sk-toggleable__content\"><pre>Pipeline(steps=[(&#x27;c_vectorizer&#x27;, CountVectorizer(stop_words=&#x27;english&#x27;)),\n",
       "                (&#x27;clasificador_p&#x27;, MultinomialNB(alpha=0.1))])</pre></div></div></div><div class=\"sk-serial\"><div class=\"sk-item\"><div class=\"sk-estimator sk-toggleable\"><input class=\"sk-toggleable__control sk-hidden--visually\" id=\"sk-estimator-id-5\" type=\"checkbox\" ><label for=\"sk-estimator-id-5\" class=\"sk-toggleable__label sk-toggleable__label-arrow\">CountVectorizer</label><div class=\"sk-toggleable__content\"><pre>CountVectorizer(stop_words=&#x27;english&#x27;)</pre></div></div></div><div class=\"sk-item\"><div class=\"sk-estimator sk-toggleable\"><input class=\"sk-toggleable__control sk-hidden--visually\" id=\"sk-estimator-id-6\" type=\"checkbox\" ><label for=\"sk-estimator-id-6\" class=\"sk-toggleable__label sk-toggleable__label-arrow\">MultinomialNB</label><div class=\"sk-toggleable__content\"><pre>MultinomialNB(alpha=0.1)</pre></div></div></div></div></div></div></div>"
      ],
      "text/plain": [
       "Pipeline(steps=[('c_vectorizer', CountVectorizer(stop_words='english')),\n",
       "                ('clasificador_p', MultinomialNB(alpha=0.1))])"
      ]
     },
     "execution_count": 23,
     "metadata": {},
     "output_type": "execute_result"
    }
   ],
   "source": [
    "# Utiliza esta celda para dividir las muestras y entrenar el pipeline\n",
    "\n",
    "X=df_letras_pop['Letra']\n",
    "\n",
    "# Vector objetivo\n",
    "y=df_letras_pop['Género']\n",
    "\n",
    "# División de la muestra en datos de entrenamiento y Test\n",
    "X_train, X_test, y_train, y_test = train_test_split(X, y, test_size=.40, random_state=1111)\n",
    "\n",
    "\n",
    "clasificador_canciones_p = Pipeline(\n",
    "    [\n",
    "        ('c_vectorizer', CountVectorizer(stop_words='english')),\n",
    "        ('clasificador_p', MultinomialNB(alpha=0.1))\n",
    "    ]\n",
    ")\n",
    "\n",
    "clasificador_canciones_p.fit(X_train, y_train)"
   ]
  },
  {
   "cell_type": "code",
   "execution_count": 24,
   "id": "cbdf3d8c",
   "metadata": {},
   "outputs": [
    {
     "data": {
      "text/plain": [
       "array(['rock', 'metal', 'pop', ..., 'rock', 'metal', 'hiphop'],\n",
       "      dtype='<U6')"
      ]
     },
     "execution_count": 24,
     "metadata": {},
     "output_type": "execute_result"
    }
   ],
   "source": [
    "y_hat_p = clasificador_canciones_p.predict(X_test)\n",
    "\n",
    "y_hat_p"
   ]
  },
  {
   "cell_type": "code",
   "execution_count": 25,
   "id": "29e9f739",
   "metadata": {},
   "outputs": [
    {
     "data": {
      "image/png": "[encoded data removed]",
      "text/plain": [
       "<Figure size 432x288 with 2 Axes>"
      ]
     },
     "metadata": {
      "needs_background": "light"
     },
     "output_type": "display_data"
    }
   ],
   "source": [
    "# Utiliza esta celda para mostrar las métricas de desempeño de nuevo modelo\n",
    "# Confusion Matrix\n",
    "cm = confusion_matrix(y_test, y_hat_p)/len(y_test)\n",
    "\n",
    "\n",
    "# Etiquetas de las clases\n",
    "target_label = ['metal','hiphop', 'rock', 'pop']\n",
    "\n",
    "# Visualización Confusion Matrix\n",
    "cm_disp = ConfusionMatrixDisplay(confusion_matrix=cm, display_labels=target_label)\n",
    "cm_disp.plot(cmap = 'Purples')\n",
    "plt.show();\n"
   ]
  },
  {
   "cell_type": "code",
   "execution_count": 26,
   "id": "ad6d69d4",
   "metadata": {},
   "outputs": [
    {
     "name": "stdout",
     "output_type": "stream",
     "text": [
      "              precision    recall  f1-score   support\n",
      "\n",
      "      hiphop       0.81      0.92      0.86      1016\n",
      "       metal       0.75      0.78      0.77       596\n",
      "         pop       0.71      0.66      0.68      1046\n",
      "        rock       0.78      0.73      0.75      1664\n",
      "\n",
      "    accuracy                           0.77      4322\n",
      "   macro avg       0.76      0.77      0.77      4322\n",
      "weighted avg       0.76      0.77      0.76      4322\n",
      "\n"
     ]
    }
   ],
   "source": [
    "# Reporte de métricas\n",
    "\n",
    "print(classification_report(y_test, y_hat_p))"
   ]
  },
  {
   "cell_type": "markdown",
   "id": "193db6c1",
   "metadata": {},
   "source": [
    "**Comentarios**\n",
    "\n",
    "- Es posible notar que el accuracy global (observando la diagonal de la matriz de confusión) se mantuvo con respecto al anterior con un valor del 77%\n",
    "\n",
    "- Las métricas de precisión, recall y f1 se mantuvieron más o menos constantes para los géneros hiphop y metal. El género rock sufrió una baja de 78% a 71% en su precisión, aunque aumentó los valores de recall a 78% y F1 a 79% lo cual muestra una mejoría en su desempeño.\n",
    "\n",
    "- En este ejercicio, el género pop mejoró todo los valores de sus métricas, subiendo su F1 score de 56% (obtenido con el modelo anterior) a 68%. Esto, dado que se incorporaron más muestras clasificadas con este género al set de datos; tratando así de mejorar el desbalanceo inicial en las clases (géneros) y así lograr una mejora en el aprendizaje del modelo en la etapa de entrenamiento."
   ]
  },
  {
   "cell_type": "code",
   "execution_count": null,
   "id": "846f9ebe",
   "metadata": {},
   "outputs": [],
   "source": []
  }
 ],
 "metadata": {
  "kernelspec": {
   "display_name": "Python 3 (ipykernel)",
   "language": "python",
   "name": "python3"
  },
  "language_info": {
   "codemirror_mode": {
    "name": "ipython",
    "version": 3
   },
   "file_extension": ".py",
   "mimetype": "text/x-python",
   "name": "python",
   "nbconvert_exporter": "python",
   "pygments_lexer": "ipython3",
   "version": "3.9.12"
  }
 },
 "nbformat": 4,
 "nbformat_minor": 5
}
